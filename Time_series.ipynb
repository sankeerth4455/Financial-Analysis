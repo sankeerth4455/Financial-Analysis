{
  "cells": [
    {
      "cell_type": "markdown",
      "metadata": {
        "id": "d8211efe"
      },
      "source": [
        "# Timeseries"
      ],
      "id": "d8211efe"
    },
    {
      "cell_type": "code",
      "execution_count": null,
      "metadata": {
        "id": "0d3eda4d"
      },
      "outputs": [],
      "source": [
        "from tensorflow.keras.utils import timeseries_dataset_from_array\n",
        "import numpy as np"
      ],
      "id": "0d3eda4d"
    },
    {
      "cell_type": "code",
      "execution_count": null,
      "metadata": {
        "colab": {
          "base_uri": "https://localhost:8080/"
        },
        "id": "4c1a9bab",
        "outputId": "7a999f4e-209f-4c16-e6fc-c4c4edbd0655"
      },
      "outputs": [
        {
          "data": {
            "text/plain": [
              "array([0, 1, 2, 3, 4, 5, 6, 7, 8, 9])"
            ]
          },
          "execution_count": 2,
          "metadata": {},
          "output_type": "execute_result"
        }
      ],
      "source": [
        "int_sequence = np.arange(10)\n",
        "int_sequence"
      ],
      "id": "4c1a9bab"
    },
    {
      "cell_type": "code",
      "execution_count": null,
      "metadata": {
        "colab": {
          "base_uri": "https://localhost:8080/"
        },
        "id": "a4c52594",
        "outputId": "a8ae0fb6-31bb-4467-cf16-83ef0c30dd2e"
      },
      "outputs": [
        {
          "name": "stdout",
          "output_type": "stream",
          "text": [
            "[[0 1 2]] [3]\n",
            "[[1 2 3]] [4]\n",
            "[[2 3 4]] [5]\n",
            "[[3 4 5]] [6]\n",
            "[[4 5 6]] [7]\n",
            "[[5 6 7]] [8]\n",
            "[[6 7 8]] [9]\n"
          ]
        }
      ],
      "source": [
        "sequence_length = 3\n",
        "delay = 0\n",
        "\n",
        "small_dataset = timeseries_dataset_from_array(data = int_sequence,\n",
        "                                              targets = int_sequence[sequence_length + delay:],\n",
        "                                              sequence_length = sequence_length,\n",
        "                                              batch_size = 1)\n",
        "\n",
        "for data, targets in small_dataset:\n",
        "    print(data.numpy(), targets.numpy())"
      ],
      "id": "a4c52594"
    },
    {
      "cell_type": "code",
      "execution_count": null,
      "metadata": {
        "colab": {
          "base_uri": "https://localhost:8080/"
        },
        "id": "210823b9",
        "outputId": "daf56cc3-e516-4577-a488-6b58cd2a1b5c"
      },
      "outputs": [
        {
          "data": {
            "text/plain": [
              "array([[987.37],\n",
              "       [912.93],\n",
              "       [979.74],\n",
              "       [987.32],\n",
              "       [987.53],\n",
              "       [910.23],\n",
              "       [936.84],\n",
              "       [930.14],\n",
              "       [991.78],\n",
              "       [934.32]])"
            ]
          },
          "execution_count": 4,
          "metadata": {},
          "output_type": "execute_result"
        }
      ],
      "source": [
        "pressure = np.round( (1000. - 900.) * np.random.random_sample(size=(10,)) + 900., 2)\n",
        "pressure = pressure.reshape(-1, 1)\n",
        "pressure"
      ],
      "id": "210823b9"
    },
    {
      "cell_type": "code",
      "execution_count": null,
      "metadata": {
        "colab": {
          "base_uri": "https://localhost:8080/"
        },
        "id": "a2088f07",
        "outputId": "c260684c-6861-4ca2-f2e4-06eedbb8f2bd"
      },
      "outputs": [
        {
          "data": {
            "text/plain": [
              "array([[31.5],\n",
              "       [26.8],\n",
              "       [30.9],\n",
              "       [31.4],\n",
              "       [25.8],\n",
              "       [31.6],\n",
              "       [28.2],\n",
              "       [26.3],\n",
              "       [30.4],\n",
              "       [32.4]])"
            ]
          },
          "execution_count": 5,
          "metadata": {},
          "output_type": "execute_result"
        }
      ],
      "source": [
        "temperature = np.round( (35. - 21.) * np.random.random_sample(size=(10,)) + 21., 1)\n",
        "temperature = temperature.reshape(-1, 1)\n",
        "temperature"
      ],
      "id": "a2088f07"
    },
    {
      "cell_type": "code",
      "execution_count": null,
      "metadata": {
        "colab": {
          "base_uri": "https://localhost:8080/"
        },
        "id": "db53a3b4",
        "outputId": "c12a2c80-b817-4c5e-a8c1-428843ab9d62"
      },
      "outputs": [
        {
          "data": {
            "text/plain": [
              "array([[ 31.5 , 987.37],\n",
              "       [ 26.8 , 912.93],\n",
              "       [ 30.9 , 979.74],\n",
              "       [ 31.4 , 987.32],\n",
              "       [ 25.8 , 987.53],\n",
              "       [ 31.6 , 910.23],\n",
              "       [ 28.2 , 936.84],\n",
              "       [ 26.3 , 930.14],\n",
              "       [ 30.4 , 991.78],\n",
              "       [ 32.4 , 934.32]])"
            ]
          },
          "execution_count": 6,
          "metadata": {},
          "output_type": "execute_result"
        }
      ],
      "source": [
        "temp_data = np.concatenate([temperature, pressure], axis=1)\n",
        "temp_data"
      ],
      "id": "db53a3b4"
    },
    {
      "cell_type": "code",
      "execution_count": null,
      "metadata": {
        "id": "2fe27011"
      },
      "outputs": [],
      "source": [
        "sequence_length = 3\n",
        "delay = 0\n",
        "\n",
        "# TO DO:\n",
        "temp_dataset = timeseries_dataset_from_array(data = temp_data,\n",
        "                                             targets = temperature[sequence_length + delay:],\n",
        "                                             sequence_length = sequence_length,\n",
        "                                             batch_size = 1)\n",
        "\n"
      ],
      "id": "2fe27011"
    },
    {
      "cell_type": "code",
      "execution_count": null,
      "metadata": {
        "colab": {
          "base_uri": "https://localhost:8080/"
        },
        "id": "5a27f273",
        "outputId": "963cee19-13d4-4bc1-b3af-a4dcc76eb274"
      },
      "outputs": [
        {
          "name": "stdout",
          "output_type": "stream",
          "text": [
            "[[[ 31.5  987.37]\n",
            "  [ 26.8  912.93]\n",
            "  [ 30.9  979.74]]] [[31.4]]\n",
            "[[[ 26.8  912.93]\n",
            "  [ 30.9  979.74]\n",
            "  [ 31.4  987.32]]] [[25.8]]\n",
            "[[[ 30.9  979.74]\n",
            "  [ 31.4  987.32]\n",
            "  [ 25.8  987.53]]] [[31.6]]\n",
            "[[[ 31.4  987.32]\n",
            "  [ 25.8  987.53]\n",
            "  [ 31.6  910.23]]] [[28.2]]\n",
            "[[[ 25.8  987.53]\n",
            "  [ 31.6  910.23]\n",
            "  [ 28.2  936.84]]] [[26.3]]\n",
            "[[[ 31.6  910.23]\n",
            "  [ 28.2  936.84]\n",
            "  [ 26.3  930.14]]] [[30.4]]\n",
            "[[[ 28.2  936.84]\n",
            "  [ 26.3  930.14]\n",
            "  [ 30.4  991.78]]] [[32.4]]\n"
          ]
        }
      ],
      "source": [
        "for data, targets in temp_dataset:\n",
        "    print(data.numpy(), targets.numpy())"
      ],
      "id": "5a27f273"
    },
    {
      "cell_type": "code",
      "execution_count": null,
      "metadata": {
        "colab": {
          "base_uri": "https://localhost:8080/",
          "height": 310
        },
        "id": "df047f9b",
        "outputId": "944efa69-05a0-4740-d086-61809b2d66e8"
      },
      "outputs": [
        {
          "data": {
            "text/html": [
              "<div>\n",
              "<style scoped>\n",
              "    .dataframe tbody tr th:only-of-type {\n",
              "        vertical-align: middle;\n",
              "    }\n",
              "\n",
              "    .dataframe tbody tr th {\n",
              "        vertical-align: top;\n",
              "    }\n",
              "\n",
              "    .dataframe thead th {\n",
              "        text-align: right;\n",
              "    }\n",
              "</style>\n",
              "<table border=\"1\" class=\"dataframe\">\n",
              "  <thead>\n",
              "    <tr style=\"text-align: right;\">\n",
              "      <th></th>\n",
              "      <th>Date Time</th>\n",
              "      <th>p (mbar)</th>\n",
              "      <th>T (degC)</th>\n",
              "      <th>Tpot (K)</th>\n",
              "      <th>Tdew (degC)</th>\n",
              "      <th>rh (%)</th>\n",
              "      <th>VPmax (mbar)</th>\n",
              "      <th>VPact (mbar)</th>\n",
              "      <th>VPdef (mbar)</th>\n",
              "      <th>sh (g/kg)</th>\n",
              "      <th>H2OC (mmol/mol)</th>\n",
              "      <th>rho (g/m**3)</th>\n",
              "      <th>wv (m/s)</th>\n",
              "      <th>max. wv (m/s)</th>\n",
              "      <th>wd (deg)</th>\n",
              "    </tr>\n",
              "  </thead>\n",
              "  <tbody>\n",
              "    <tr>\n",
              "      <th>0</th>\n",
              "      <td>01.01.2009 00:10:00</td>\n",
              "      <td>996.52</td>\n",
              "      <td>-8.02</td>\n",
              "      <td>265.40</td>\n",
              "      <td>-8.90</td>\n",
              "      <td>93.3</td>\n",
              "      <td>3.33</td>\n",
              "      <td>3.11</td>\n",
              "      <td>0.22</td>\n",
              "      <td>1.94</td>\n",
              "      <td>3.12</td>\n",
              "      <td>1307.75</td>\n",
              "      <td>1.03</td>\n",
              "      <td>1.75</td>\n",
              "      <td>152.3</td>\n",
              "    </tr>\n",
              "    <tr>\n",
              "      <th>1</th>\n",
              "      <td>01.01.2009 00:20:00</td>\n",
              "      <td>996.57</td>\n",
              "      <td>-8.41</td>\n",
              "      <td>265.01</td>\n",
              "      <td>-9.28</td>\n",
              "      <td>93.4</td>\n",
              "      <td>3.23</td>\n",
              "      <td>3.02</td>\n",
              "      <td>0.21</td>\n",
              "      <td>1.89</td>\n",
              "      <td>3.03</td>\n",
              "      <td>1309.80</td>\n",
              "      <td>0.72</td>\n",
              "      <td>1.50</td>\n",
              "      <td>136.1</td>\n",
              "    </tr>\n",
              "    <tr>\n",
              "      <th>2</th>\n",
              "      <td>01.01.2009 00:30:00</td>\n",
              "      <td>996.53</td>\n",
              "      <td>-8.51</td>\n",
              "      <td>264.91</td>\n",
              "      <td>-9.31</td>\n",
              "      <td>93.9</td>\n",
              "      <td>3.21</td>\n",
              "      <td>3.01</td>\n",
              "      <td>0.20</td>\n",
              "      <td>1.88</td>\n",
              "      <td>3.02</td>\n",
              "      <td>1310.24</td>\n",
              "      <td>0.19</td>\n",
              "      <td>0.63</td>\n",
              "      <td>171.6</td>\n",
              "    </tr>\n",
              "    <tr>\n",
              "      <th>3</th>\n",
              "      <td>01.01.2009 00:40:00</td>\n",
              "      <td>996.51</td>\n",
              "      <td>-8.31</td>\n",
              "      <td>265.12</td>\n",
              "      <td>-9.07</td>\n",
              "      <td>94.2</td>\n",
              "      <td>3.26</td>\n",
              "      <td>3.07</td>\n",
              "      <td>0.19</td>\n",
              "      <td>1.92</td>\n",
              "      <td>3.08</td>\n",
              "      <td>1309.19</td>\n",
              "      <td>0.34</td>\n",
              "      <td>0.50</td>\n",
              "      <td>198.0</td>\n",
              "    </tr>\n",
              "    <tr>\n",
              "      <th>4</th>\n",
              "      <td>01.01.2009 00:50:00</td>\n",
              "      <td>996.51</td>\n",
              "      <td>-8.27</td>\n",
              "      <td>265.15</td>\n",
              "      <td>-9.04</td>\n",
              "      <td>94.1</td>\n",
              "      <td>3.27</td>\n",
              "      <td>3.08</td>\n",
              "      <td>0.19</td>\n",
              "      <td>1.92</td>\n",
              "      <td>3.09</td>\n",
              "      <td>1309.00</td>\n",
              "      <td>0.32</td>\n",
              "      <td>0.63</td>\n",
              "      <td>214.3</td>\n",
              "    </tr>\n",
              "  </tbody>\n",
              "</table>\n",
              "</div>"
            ],
            "text/plain": [
              "             Date Time  p (mbar)  T (degC)  ...  wv (m/s)  max. wv (m/s)  wd (deg)\n",
              "0  01.01.2009 00:10:00    996.52     -8.02  ...      1.03           1.75     152.3\n",
              "1  01.01.2009 00:20:00    996.57     -8.41  ...      0.72           1.50     136.1\n",
              "2  01.01.2009 00:30:00    996.53     -8.51  ...      0.19           0.63     171.6\n",
              "3  01.01.2009 00:40:00    996.51     -8.31  ...      0.34           0.50     198.0\n",
              "4  01.01.2009 00:50:00    996.51     -8.27  ...      0.32           0.63     214.3\n",
              "\n",
              "[5 rows x 15 columns]"
            ]
          },
          "execution_count": 54,
          "metadata": {},
          "output_type": "execute_result"
        }
      ],
      "source": [
        "from pathlib import Path\n",
        "import pandas as pd\n",
        "import numpy as np\n",
        "\n",
        "path = Path().cwd()\n",
        "\n",
        "fname = path / \"jena_climate_2009_2016.csv\"\n",
        "\n",
        "data_df = pd.read_csv(fname)\n",
        "data_df.head()"
      ],
      "id": "df047f9b"
    },
    {
      "cell_type": "code",
      "execution_count": null,
      "metadata": {
        "colab": {
          "base_uri": "https://localhost:8080/",
          "height": 52
        },
        "id": "3678b7d7",
        "outputId": "fe71e93c-aac3-4080-9238-4e205308de4a"
      },
      "outputs": [
        {
          "data": {
            "application/vnd.google.colaboratory.intrinsic+json": {
              "type": "string"
            },
            "text/plain": [
              "\"['Date Time', 'p (mbar)', 'T (degC)', 'Tpot (K)', 'Tdew (degC)', 'rh (%)', 'VPmax (mbar)', 'VPact (mbar)', 'VPdef (mbar)', 'sh (g/kg)', 'H2OC (mmol/mol)', 'rho (g/m**3)', 'wv (m/s)', 'max. wv (m/s)', 'wd (deg)']\""
            ]
          },
          "execution_count": 56,
          "metadata": {},
          "output_type": "execute_result"
        }
      ],
      "source": [
        "features = list(data_df.columns)\n",
        "str(features)"
      ],
      "id": "3678b7d7"
    },
    {
      "cell_type": "code",
      "execution_count": null,
      "metadata": {
        "colab": {
          "base_uri": "https://localhost:8080/"
        },
        "id": "1fd2e35d",
        "outputId": "ab1fb7c4-b78b-40a0-a35b-0739e9f91f4d"
      },
      "outputs": [
        {
          "data": {
            "text/plain": [
              "0    01.01.2009 00:10:00\n",
              "1    01.01.2009 00:20:00\n",
              "2    01.01.2009 00:30:00\n",
              "3    01.01.2009 00:40:00\n",
              "4    01.01.2009 00:50:00\n",
              "5    01.01.2009 01:00:00\n",
              "6    01.01.2009 01:10:00\n",
              "7    01.01.2009 01:20:00\n",
              "8    01.01.2009 01:30:00\n",
              "9    01.01.2009 01:40:00\n",
              "Name: Date Time, dtype: object"
            ]
          },
          "execution_count": 57,
          "metadata": {},
          "output_type": "execute_result"
        }
      ],
      "source": [
        "data_df[features[0]].head(10)"
      ],
      "id": "1fd2e35d"
    },
    {
      "cell_type": "code",
      "execution_count": null,
      "metadata": {
        "colab": {
          "base_uri": "https://localhost:8080/"
        },
        "id": "5b32c16a",
        "outputId": "e4407960-6b4a-4f01-d614-f1352635a348"
      },
      "outputs": [
        {
          "data": {
            "text/plain": [
              "420441    31.12.2016 22:30:00\n",
              "420442    31.12.2016 22:40:00\n",
              "420443    31.12.2016 22:50:00\n",
              "420444    31.12.2016 23:00:00\n",
              "420445    31.12.2016 23:10:00\n",
              "420446    31.12.2016 23:20:00\n",
              "420447    31.12.2016 23:30:00\n",
              "420448    31.12.2016 23:40:00\n",
              "420449    31.12.2016 23:50:00\n",
              "420450    01.01.2017 00:00:00\n",
              "Name: Date Time, dtype: object"
            ]
          },
          "execution_count": 11,
          "metadata": {},
          "output_type": "execute_result"
        }
      ],
      "source": [
        "data_df[features[0]].tail(10)"
      ],
      "id": "5b32c16a"
    },
    {
      "cell_type": "code",
      "execution_count": null,
      "metadata": {
        "colab": {
          "base_uri": "https://localhost:8080/"
        },
        "id": "35137d9e",
        "outputId": "672f9983-bcc5-4646-d413-f3b5672ad42d"
      },
      "outputs": [
        {
          "data": {
            "text/plain": [
              "0   -8.02\n",
              "1   -8.41\n",
              "2   -8.51\n",
              "3   -8.31\n",
              "4   -8.27\n",
              "Name: T (degC), dtype: float64"
            ]
          },
          "execution_count": 12,
          "metadata": {},
          "output_type": "execute_result"
        }
      ],
      "source": [
        "temp_df = data_df[features[2]]\n",
        "temp_df.head()"
      ],
      "id": "35137d9e"
    },
    {
      "cell_type": "code",
      "execution_count": null,
      "metadata": {
        "colab": {
          "base_uri": "https://localhost:8080/"
        },
        "id": "7260a98b",
        "outputId": "f7495d7b-40a9-415f-e5d5-4d24d1687de4"
      },
      "outputs": [
        {
          "data": {
            "text/plain": [
              "420446   -4.05\n",
              "420447   -3.35\n",
              "420448   -3.16\n",
              "420449   -4.23\n",
              "420450   -4.82\n",
              "Name: T (degC), dtype: float64"
            ]
          },
          "execution_count": 13,
          "metadata": {},
          "output_type": "execute_result"
        }
      ],
      "source": [
        "temp_df.tail()"
      ],
      "id": "7260a98b"
    },
    {
      "cell_type": "code",
      "execution_count": null,
      "metadata": {
        "colab": {
          "base_uri": "https://localhost:8080/",
          "height": 223
        },
        "id": "2f990464",
        "outputId": "724b2ee1-db13-4baa-c97a-2170ecb520ad"
      },
      "outputs": [
        {
          "data": {
            "text/html": [
              "<div>\n",
              "<style scoped>\n",
              "    .dataframe tbody tr th:only-of-type {\n",
              "        vertical-align: middle;\n",
              "    }\n",
              "\n",
              "    .dataframe tbody tr th {\n",
              "        vertical-align: top;\n",
              "    }\n",
              "\n",
              "    .dataframe thead th {\n",
              "        text-align: right;\n",
              "    }\n",
              "</style>\n",
              "<table border=\"1\" class=\"dataframe\">\n",
              "  <thead>\n",
              "    <tr style=\"text-align: right;\">\n",
              "      <th></th>\n",
              "      <th>p (mbar)</th>\n",
              "      <th>T (degC)</th>\n",
              "      <th>Tpot (K)</th>\n",
              "      <th>Tdew (degC)</th>\n",
              "      <th>rh (%)</th>\n",
              "      <th>VPmax (mbar)</th>\n",
              "      <th>VPact (mbar)</th>\n",
              "      <th>VPdef (mbar)</th>\n",
              "      <th>sh (g/kg)</th>\n",
              "      <th>H2OC (mmol/mol)</th>\n",
              "      <th>rho (g/m**3)</th>\n",
              "      <th>wv (m/s)</th>\n",
              "      <th>max. wv (m/s)</th>\n",
              "      <th>wd (deg)</th>\n",
              "    </tr>\n",
              "  </thead>\n",
              "  <tbody>\n",
              "    <tr>\n",
              "      <th>0</th>\n",
              "      <td>996.52</td>\n",
              "      <td>-8.02</td>\n",
              "      <td>265.40</td>\n",
              "      <td>-8.90</td>\n",
              "      <td>93.3</td>\n",
              "      <td>3.33</td>\n",
              "      <td>3.11</td>\n",
              "      <td>0.22</td>\n",
              "      <td>1.94</td>\n",
              "      <td>3.12</td>\n",
              "      <td>1307.75</td>\n",
              "      <td>1.03</td>\n",
              "      <td>1.75</td>\n",
              "      <td>152.3</td>\n",
              "    </tr>\n",
              "    <tr>\n",
              "      <th>1</th>\n",
              "      <td>996.57</td>\n",
              "      <td>-8.41</td>\n",
              "      <td>265.01</td>\n",
              "      <td>-9.28</td>\n",
              "      <td>93.4</td>\n",
              "      <td>3.23</td>\n",
              "      <td>3.02</td>\n",
              "      <td>0.21</td>\n",
              "      <td>1.89</td>\n",
              "      <td>3.03</td>\n",
              "      <td>1309.80</td>\n",
              "      <td>0.72</td>\n",
              "      <td>1.50</td>\n",
              "      <td>136.1</td>\n",
              "    </tr>\n",
              "    <tr>\n",
              "      <th>2</th>\n",
              "      <td>996.53</td>\n",
              "      <td>-8.51</td>\n",
              "      <td>264.91</td>\n",
              "      <td>-9.31</td>\n",
              "      <td>93.9</td>\n",
              "      <td>3.21</td>\n",
              "      <td>3.01</td>\n",
              "      <td>0.20</td>\n",
              "      <td>1.88</td>\n",
              "      <td>3.02</td>\n",
              "      <td>1310.24</td>\n",
              "      <td>0.19</td>\n",
              "      <td>0.63</td>\n",
              "      <td>171.6</td>\n",
              "    </tr>\n",
              "    <tr>\n",
              "      <th>3</th>\n",
              "      <td>996.51</td>\n",
              "      <td>-8.31</td>\n",
              "      <td>265.12</td>\n",
              "      <td>-9.07</td>\n",
              "      <td>94.2</td>\n",
              "      <td>3.26</td>\n",
              "      <td>3.07</td>\n",
              "      <td>0.19</td>\n",
              "      <td>1.92</td>\n",
              "      <td>3.08</td>\n",
              "      <td>1309.19</td>\n",
              "      <td>0.34</td>\n",
              "      <td>0.50</td>\n",
              "      <td>198.0</td>\n",
              "    </tr>\n",
              "    <tr>\n",
              "      <th>4</th>\n",
              "      <td>996.51</td>\n",
              "      <td>-8.27</td>\n",
              "      <td>265.15</td>\n",
              "      <td>-9.04</td>\n",
              "      <td>94.1</td>\n",
              "      <td>3.27</td>\n",
              "      <td>3.08</td>\n",
              "      <td>0.19</td>\n",
              "      <td>1.92</td>\n",
              "      <td>3.09</td>\n",
              "      <td>1309.00</td>\n",
              "      <td>0.32</td>\n",
              "      <td>0.63</td>\n",
              "      <td>214.3</td>\n",
              "    </tr>\n",
              "  </tbody>\n",
              "</table>\n",
              "</div>"
            ],
            "text/plain": [
              "   p (mbar)  T (degC)  Tpot (K)  ...  wv (m/s)  max. wv (m/s)  wd (deg)\n",
              "0    996.52     -8.02    265.40  ...      1.03           1.75     152.3\n",
              "1    996.57     -8.41    265.01  ...      0.72           1.50     136.1\n",
              "2    996.53     -8.51    264.91  ...      0.19           0.63     171.6\n",
              "3    996.51     -8.31    265.12  ...      0.34           0.50     198.0\n",
              "4    996.51     -8.27    265.15  ...      0.32           0.63     214.3\n",
              "\n",
              "[5 rows x 14 columns]"
            ]
          },
          "execution_count": 14,
          "metadata": {},
          "output_type": "execute_result"
        }
      ],
      "source": [
        "raw_data_df = data_df.drop(columns=[features[0]])\n",
        "orig_data = raw_data_df.copy()\n",
        "raw_data_df.head()"
      ],
      "id": "2f990464"
    },
    {
      "cell_type": "code",
      "execution_count": null,
      "metadata": {
        "colab": {
          "base_uri": "https://localhost:8080/"
        },
        "id": "3d8d291e",
        "outputId": "17515941-5999-4bc4-dbc8-1a629ac34ab4"
      },
      "outputs": [
        {
          "data": {
            "text/plain": [
              "(420451, 14)"
            ]
          },
          "execution_count": 15,
          "metadata": {},
          "output_type": "execute_result"
        }
      ],
      "source": [
        "raw_data_df.shape"
      ],
      "id": "3d8d291e"
    },
    {
      "cell_type": "code",
      "execution_count": null,
      "metadata": {
        "colab": {
          "base_uri": "https://localhost:8080/"
        },
        "id": "e2c2425c",
        "outputId": "58a354a9-3ba4-4759-8e76-fbe68fc19609"
      },
      "outputs": [
        {
          "data": {
            "text/plain": [
              "(420451,)"
            ]
          },
          "execution_count": 16,
          "metadata": {},
          "output_type": "execute_result"
        }
      ],
      "source": [
        "temp_df.shape"
      ],
      "id": "e2c2425c"
    },
    {
      "cell_type": "code",
      "execution_count": null,
      "metadata": {
        "id": "5ccf794b"
      },
      "outputs": [],
      "source": [
        "raw_data_np = raw_data_df.values\n",
        "temp_np = temp_df.values"
      ],
      "id": "5ccf794b"
    },
    {
      "cell_type": "code",
      "execution_count": null,
      "metadata": {
        "colab": {
          "base_uri": "https://localhost:8080/"
        },
        "id": "9b55bd97",
        "outputId": "2d7915df-f313-470c-99b7-624606d4de04"
      },
      "outputs": [
        {
          "data": {
            "text/plain": [
              "array([[ 9.96520e+02, -8.02000e+00,  2.65400e+02, -8.90000e+00,\n",
              "         9.33000e+01,  3.33000e+00,  3.11000e+00,  2.20000e-01,\n",
              "         1.94000e+00,  3.12000e+00,  1.30775e+03,  1.03000e+00,\n",
              "         1.75000e+00,  1.52300e+02],\n",
              "       [ 9.96570e+02, -8.41000e+00,  2.65010e+02, -9.28000e+00,\n",
              "         9.34000e+01,  3.23000e+00,  3.02000e+00,  2.10000e-01,\n",
              "         1.89000e+00,  3.03000e+00,  1.30980e+03,  7.20000e-01,\n",
              "         1.50000e+00,  1.36100e+02],\n",
              "       [ 9.96530e+02, -8.51000e+00,  2.64910e+02, -9.31000e+00,\n",
              "         9.39000e+01,  3.21000e+00,  3.01000e+00,  2.00000e-01,\n",
              "         1.88000e+00,  3.02000e+00,  1.31024e+03,  1.90000e-01,\n",
              "         6.30000e-01,  1.71600e+02],\n",
              "       [ 9.96510e+02, -8.31000e+00,  2.65120e+02, -9.07000e+00,\n",
              "         9.42000e+01,  3.26000e+00,  3.07000e+00,  1.90000e-01,\n",
              "         1.92000e+00,  3.08000e+00,  1.30919e+03,  3.40000e-01,\n",
              "         5.00000e-01,  1.98000e+02],\n",
              "       [ 9.96510e+02, -8.27000e+00,  2.65150e+02, -9.04000e+00,\n",
              "         9.41000e+01,  3.27000e+00,  3.08000e+00,  1.90000e-01,\n",
              "         1.92000e+00,  3.09000e+00,  1.30900e+03,  3.20000e-01,\n",
              "         6.30000e-01,  2.14300e+02]])"
            ]
          },
          "execution_count": 18,
          "metadata": {},
          "output_type": "execute_result"
        }
      ],
      "source": [
        "raw_data_np[:5]"
      ],
      "id": "9b55bd97"
    },
    {
      "cell_type": "code",
      "execution_count": null,
      "metadata": {
        "colab": {
          "base_uri": "https://localhost:8080/"
        },
        "id": "2eb36c98",
        "outputId": "87ae0a79-559b-46c3-aa98-35f1126dd83d"
      },
      "outputs": [
        {
          "data": {
            "text/plain": [
              "array([-8.02, -8.41, -8.51, -8.31, -8.27])"
            ]
          },
          "execution_count": 19,
          "metadata": {},
          "output_type": "execute_result"
        }
      ],
      "source": [
        "temp_np[:5]"
      ],
      "id": "2eb36c98"
    },
    {
      "cell_type": "code",
      "execution_count": null,
      "metadata": {
        "colab": {
          "base_uri": "https://localhost:8080/",
          "height": 285
        },
        "id": "e0512af0",
        "outputId": "eeef1454-8683-4e02-f0d4-a63b1fd4394d"
      },
      "outputs": [
        {
          "data": {
            "text/plain": [
              "[<matplotlib.lines.Line2D at 0x7f50fe168110>]"
            ]
          },
          "execution_count": 20,
          "metadata": {},
          "output_type": "execute_result"
        },
        {
          "data": {
            "image/png": "[encoded data removed]",
            "text/plain": [
              "<Figure size 432x288 with 1 Axes>"
            ]
          },
          "metadata": {},
          "output_type": "display_data"
        }
      ],
      "source": [
        "from matplotlib import pyplot as plt\n",
        "\n",
        "plt.plot(range(len(temp_np)), temp_np)"
      ],
      "id": "e0512af0"
    },
    {
      "cell_type": "code",
      "execution_count": null,
      "metadata": {
        "colab": {
          "base_uri": "https://localhost:8080/",
          "height": 282
        },
        "id": "9aee0acf",
        "outputId": "d9fda187-fae8-4fdd-ff48-c48cbd1ead86"
      },
      "outputs": [
        {
          "data": {
            "text/plain": [
              "[<matplotlib.lines.Line2D at 0x7f50fdcc5910>]"
            ]
          },
          "execution_count": 21,
          "metadata": {},
          "output_type": "execute_result"
        },
        {
          "data": {
            "image/png": "[encoded data removed]",
            "text/plain": [
              "<Figure size 432x288 with 1 Axes>"
            ]
          },
          "metadata": {},
          "output_type": "display_data"
        }
      ],
      "source": [
        "plt.plot(range(1440), temp_np[:1440])"
      ],
      "id": "9aee0acf"
    },
    {
      "cell_type": "code",
      "execution_count": null,
      "metadata": {
        "colab": {
          "base_uri": "https://localhost:8080/",
          "height": 282
        },
        "id": "db5c6eb1",
        "outputId": "e152ca33-f088-4c26-9ac9-60bea95e5637"
      },
      "outputs": [
        {
          "data": {
            "text/plain": [
              "[<matplotlib.lines.Line2D at 0x7f50fdc47090>]"
            ]
          },
          "execution_count": 22,
          "metadata": {},
          "output_type": "execute_result"
        },
        {
          "data": {
            "image/png": "[encoded data removed]",
            "text/plain": [
              "<Figure size 432x288 with 1 Axes>"
            ]
          },
          "metadata": {},
          "output_type": "display_data"
        }
      ],
      "source": [
        "plt.plot(range(1440), temp_np[25920:25920+1440])"
      ],
      "id": "db5c6eb1"
    },
    {
      "cell_type": "code",
      "execution_count": null,
      "metadata": {
        "colab": {
          "base_uri": "https://localhost:8080/",
          "height": 337
        },
        "id": "1c22376b",
        "outputId": "d8ded5a7-f5cc-43b4-c041-070d2122eab6"
      },
      "outputs": [
        {
          "data": {
            "text/html": [
              "<div>\n",
              "<style scoped>\n",
              "    .dataframe tbody tr th:only-of-type {\n",
              "        vertical-align: middle;\n",
              "    }\n",
              "\n",
              "    .dataframe tbody tr th {\n",
              "        vertical-align: top;\n",
              "    }\n",
              "\n",
              "    .dataframe thead th {\n",
              "        text-align: right;\n",
              "    }\n",
              "</style>\n",
              "<table border=\"1\" class=\"dataframe\">\n",
              "  <thead>\n",
              "    <tr style=\"text-align: right;\">\n",
              "      <th></th>\n",
              "      <th>p (mbar)</th>\n",
              "      <th>T (degC)</th>\n",
              "      <th>Tpot (K)</th>\n",
              "      <th>Tdew (degC)</th>\n",
              "      <th>rh (%)</th>\n",
              "      <th>VPmax (mbar)</th>\n",
              "      <th>VPact (mbar)</th>\n",
              "      <th>VPdef (mbar)</th>\n",
              "      <th>sh (g/kg)</th>\n",
              "      <th>H2OC (mmol/mol)</th>\n",
              "      <th>rho (g/m**3)</th>\n",
              "      <th>wv (m/s)</th>\n",
              "      <th>max. wv (m/s)</th>\n",
              "      <th>wd (deg)</th>\n",
              "    </tr>\n",
              "  </thead>\n",
              "  <tbody>\n",
              "    <tr>\n",
              "      <th>count</th>\n",
              "      <td>420451.000000</td>\n",
              "      <td>420451.000000</td>\n",
              "      <td>420451.000000</td>\n",
              "      <td>420451.000000</td>\n",
              "      <td>420451.000000</td>\n",
              "      <td>420451.000000</td>\n",
              "      <td>420451.000000</td>\n",
              "      <td>420451.000000</td>\n",
              "      <td>420451.000000</td>\n",
              "      <td>420451.000000</td>\n",
              "      <td>420451.000000</td>\n",
              "      <td>420451.000000</td>\n",
              "      <td>420451.000000</td>\n",
              "      <td>420451.000000</td>\n",
              "    </tr>\n",
              "    <tr>\n",
              "      <th>mean</th>\n",
              "      <td>989.212508</td>\n",
              "      <td>9.448567</td>\n",
              "      <td>283.491182</td>\n",
              "      <td>4.954011</td>\n",
              "      <td>76.007045</td>\n",
              "      <td>13.575089</td>\n",
              "      <td>9.532524</td>\n",
              "      <td>4.042483</td>\n",
              "      <td>6.021630</td>\n",
              "      <td>9.638982</td>\n",
              "      <td>1216.069883</td>\n",
              "      <td>2.130309</td>\n",
              "      <td>3.532381</td>\n",
              "      <td>174.726164</td>\n",
              "    </tr>\n",
              "    <tr>\n",
              "      <th>std</th>\n",
              "      <td>8.359454</td>\n",
              "      <td>8.423685</td>\n",
              "      <td>8.504820</td>\n",
              "      <td>6.730411</td>\n",
              "      <td>16.477126</td>\n",
              "      <td>7.739481</td>\n",
              "      <td>4.183895</td>\n",
              "      <td>4.897270</td>\n",
              "      <td>2.655973</td>\n",
              "      <td>4.235130</td>\n",
              "      <td>39.977065</td>\n",
              "      <td>1.541830</td>\n",
              "      <td>2.340482</td>\n",
              "      <td>86.675965</td>\n",
              "    </tr>\n",
              "    <tr>\n",
              "      <th>min</th>\n",
              "      <td>913.600000</td>\n",
              "      <td>-23.010000</td>\n",
              "      <td>250.600000</td>\n",
              "      <td>-25.010000</td>\n",
              "      <td>12.950000</td>\n",
              "      <td>0.950000</td>\n",
              "      <td>0.790000</td>\n",
              "      <td>0.000000</td>\n",
              "      <td>0.500000</td>\n",
              "      <td>0.800000</td>\n",
              "      <td>1059.450000</td>\n",
              "      <td>0.000000</td>\n",
              "      <td>0.000000</td>\n",
              "      <td>0.000000</td>\n",
              "    </tr>\n",
              "    <tr>\n",
              "      <th>25%</th>\n",
              "      <td>984.200000</td>\n",
              "      <td>3.360000</td>\n",
              "      <td>277.430000</td>\n",
              "      <td>0.240000</td>\n",
              "      <td>65.210000</td>\n",
              "      <td>7.780000</td>\n",
              "      <td>6.210000</td>\n",
              "      <td>0.870000</td>\n",
              "      <td>3.920000</td>\n",
              "      <td>6.290000</td>\n",
              "      <td>1187.490000</td>\n",
              "      <td>0.990000</td>\n",
              "      <td>1.760000</td>\n",
              "      <td>124.800000</td>\n",
              "    </tr>\n",
              "    <tr>\n",
              "      <th>50%</th>\n",
              "      <td>989.570000</td>\n",
              "      <td>9.410000</td>\n",
              "      <td>283.460000</td>\n",
              "      <td>5.210000</td>\n",
              "      <td>79.300000</td>\n",
              "      <td>11.820000</td>\n",
              "      <td>8.860000</td>\n",
              "      <td>2.190000</td>\n",
              "      <td>5.590000</td>\n",
              "      <td>8.960000</td>\n",
              "      <td>1213.800000</td>\n",
              "      <td>1.760000</td>\n",
              "      <td>2.960000</td>\n",
              "      <td>198.100000</td>\n",
              "    </tr>\n",
              "    <tr>\n",
              "      <th>75%</th>\n",
              "      <td>994.720000</td>\n",
              "      <td>15.470000</td>\n",
              "      <td>289.530000</td>\n",
              "      <td>10.070000</td>\n",
              "      <td>89.400000</td>\n",
              "      <td>17.600000</td>\n",
              "      <td>12.350000</td>\n",
              "      <td>5.300000</td>\n",
              "      <td>7.800000</td>\n",
              "      <td>12.480000</td>\n",
              "      <td>1242.770000</td>\n",
              "      <td>2.860000</td>\n",
              "      <td>4.740000</td>\n",
              "      <td>234.100000</td>\n",
              "    </tr>\n",
              "    <tr>\n",
              "      <th>max</th>\n",
              "      <td>1015.350000</td>\n",
              "      <td>37.280000</td>\n",
              "      <td>311.340000</td>\n",
              "      <td>23.110000</td>\n",
              "      <td>100.000000</td>\n",
              "      <td>63.770000</td>\n",
              "      <td>28.320000</td>\n",
              "      <td>46.010000</td>\n",
              "      <td>18.130000</td>\n",
              "      <td>28.820000</td>\n",
              "      <td>1393.540000</td>\n",
              "      <td>14.630000</td>\n",
              "      <td>23.500000</td>\n",
              "      <td>360.000000</td>\n",
              "    </tr>\n",
              "  </tbody>\n",
              "</table>\n",
              "</div>"
            ],
            "text/plain": [
              "            p (mbar)       T (degC)  ...  max. wv (m/s)       wd (deg)\n",
              "count  420451.000000  420451.000000  ...  420451.000000  420451.000000\n",
              "mean      989.212508       9.448567  ...       3.532381     174.726164\n",
              "std         8.359454       8.423685  ...       2.340482      86.675965\n",
              "min       913.600000     -23.010000  ...       0.000000       0.000000\n",
              "25%       984.200000       3.360000  ...       1.760000     124.800000\n",
              "50%       989.570000       9.410000  ...       2.960000     198.100000\n",
              "75%       994.720000      15.470000  ...       4.740000     234.100000\n",
              "max      1015.350000      37.280000  ...      23.500000     360.000000\n",
              "\n",
              "[8 rows x 14 columns]"
            ]
          },
          "execution_count": 23,
          "metadata": {},
          "output_type": "execute_result"
        }
      ],
      "source": [
        "raw_data_df.describe()"
      ],
      "id": "1c22376b"
    },
    {
      "cell_type": "code",
      "execution_count": null,
      "metadata": {
        "colab": {
          "base_uri": "https://localhost:8080/"
        },
        "id": "AwaIIqOCxQM1",
        "outputId": "8bade436-b77d-456c-e941-ca0b5343d5b3"
      },
      "outputs": [
        {
          "data": {
            "text/plain": [
              "315338.25"
            ]
          },
          "execution_count": 61,
          "metadata": {},
          "output_type": "execute_result"
        }
      ],
      "source": [
        "420451/2+420451/4"
      ],
      "id": "AwaIIqOCxQM1"
    },
    {
      "cell_type": "code",
      "execution_count": null,
      "metadata": {
        "id": "84d52a80"
      },
      "outputs": [],
      "source": [
        "# TO DO: split data into 50% train, 25% val, 25% test\n",
        "num_train_samples = 210225\n",
        "num_val_samples = 105113\n",
        "num_test_samples = 105113"
      ],
      "id": "84d52a80"
    },
    {
      "cell_type": "code",
      "execution_count": null,
      "metadata": {
        "colab": {
          "base_uri": "https://localhost:8080/"
        },
        "id": "b6b38908",
        "outputId": "73dea3c1-57de-4f70-d944-c098be8cdc35"
      },
      "outputs": [
        {
          "name": "stdout",
          "output_type": "stream",
          "text": [
            "210225\n",
            "105113\n",
            "105113\n"
          ]
        }
      ],
      "source": [
        "# TO DO: print out train, val, and test sizes\n",
        "print(num_train_samples)\n",
        "print(num_val_samples)\n",
        "print(num_test_samples)"
      ],
      "id": "b6b38908"
    },
    {
      "cell_type": "code",
      "execution_count": null,
      "metadata": {
        "id": "c9846dcd"
      },
      "outputs": [],
      "source": [
        "mean = np.mean(raw_data_np[:num_train_samples], axis=0)\n",
        "std = np.std(raw_data_np[:num_train_samples], axis=0)\n",
        "\n",
        "temp_mean = mean[1]\n",
        "temp_std = std[1]\n",
        "\n",
        "raw_data_np -= mean\n",
        "raw_data_np /= std"
      ],
      "id": "c9846dcd"
    },
    {
      "cell_type": "code",
      "execution_count": null,
      "metadata": {
        "colab": {
          "base_uri": "https://localhost:8080/"
        },
        "id": "e6200b0a",
        "outputId": "1b6fbd2d-bb6f-4ed7-ed1a-58638eb5032e"
      },
      "outputs": [
        {
          "data": {
            "text/plain": [
              "array([[ 0.91365151, -1.92064015, -1.97449272, -1.86625827,  1.04801712,\n",
              "        -1.29131928, -1.46715535, -0.78234525, -1.47012583, -1.4720352 ,\n",
              "         2.12415558, -0.73016651, -0.77935289, -0.28119316],\n",
              "       [ 0.91953033, -1.96510495, -2.01848295, -1.91992974,  1.05403079,\n",
              "        -1.30447494, -1.48885833, -0.78444185, -1.48911721, -1.49346536,\n",
              "         2.1729195 , -0.93230685, -0.88696976, -0.46989368],\n",
              "       [ 0.91482727, -1.97650618, -2.0297625 , -1.92416696,  1.08409914,\n",
              "        -1.30710607, -1.49126977, -0.78653846, -1.49291549, -1.49584649,\n",
              "         2.18338591, -1.27790162, -1.26147647, -0.05638329],\n",
              "       [ 0.91247574, -1.95370372, -2.00607545, -1.89026919,  1.10214015,\n",
              "        -1.30052824, -1.47680112, -0.78863507, -1.47772238, -1.48155971,\n",
              "         2.15840926, -1.18009178, -1.31743724,  0.25112867],\n",
              "       [ 0.91247574, -1.94914323, -2.00269159, -1.88603197,  1.09612648,\n",
              "        -1.29921268, -1.47438968, -0.78863507, -1.47772238, -1.47917858,\n",
              "         2.15388968, -1.19313309, -1.26147647,  0.44099401]])"
            ]
          },
          "execution_count": 70,
          "metadata": {},
          "output_type": "execute_result"
        }
      ],
      "source": [
        "raw_data_np[:5]"
      ],
      "id": "e6200b0a"
    },
    {
      "cell_type": "code",
      "execution_count": null,
      "metadata": {
        "colab": {
          "base_uri": "https://localhost:8080/"
        },
        "id": "8123f344",
        "outputId": "e7ce1bad-be9f-4863-ab88-416beac39da7"
      },
      "outputs": [
        {
          "data": {
            "text/plain": [
              "array([-1.51420214e-17, -8.65258368e-18, -4.32629184e-18,  2.59577510e-17,\n",
              "        0.00000000e+00, -3.24471888e-17, -1.29788755e-17, -4.32629184e-17,\n",
              "       -4.32629184e-18, -5.84049398e-17,  2.81208970e-17,  1.18973026e-17,\n",
              "        1.66967826e-17,  1.48716282e-17])"
            ]
          },
          "execution_count": 71,
          "metadata": {},
          "output_type": "execute_result"
        }
      ],
      "source": [
        "np.mean(raw_data_np[:num_train_samples], axis=0)"
      ],
      "id": "8123f344"
    },
    {
      "cell_type": "code",
      "execution_count": null,
      "metadata": {
        "colab": {
          "base_uri": "https://localhost:8080/"
        },
        "id": "bfa5a592",
        "outputId": "7359c106-dbfb-4471-db1e-ed26beceebcc"
      },
      "outputs": [
        {
          "data": {
            "text/plain": [
              "array([1., 1., 1., 1., 1., 1., 1., 1., 1., 1., 1., 1., 1., 1.])"
            ]
          },
          "execution_count": 72,
          "metadata": {},
          "output_type": "execute_result"
        }
      ],
      "source": [
        "np.std(raw_data_np[:num_train_samples], axis=0)"
      ],
      "id": "bfa5a592"
    },
    {
      "cell_type": "code",
      "execution_count": null,
      "metadata": {
        "id": "0cc35ca0"
      },
      "outputs": [],
      "source": [],
      "id": "0cc35ca0"
    },
    {
      "cell_type": "code",
      "execution_count": null,
      "metadata": {
        "id": "b4f2b6dd"
      },
      "outputs": [],
      "source": [
        "sampling_rate = 6\n",
        "sequence_length = 120 # 5 days * 24 hours per day\n",
        "delay = sampling_rate * (sequence_length + 24 -1 ) # -1 because of 0 indexing\n",
        "batch_size = 256"
      ],
      "id": "b4f2b6dd"
    },
    {
      "cell_type": "code",
      "execution_count": null,
      "metadata": {
        "id": "1605020e"
      },
      "outputs": [],
      "source": [
        "# TO DO: fill in missing information\n",
        "\n",
        "train_ds = timeseries_dataset_from_array(\n",
        "                data=raw_data_np[:-delay],\n",
        "                targets = temp_np[delay:],\n",
        "                sampling_rate=sampling_rate,\n",
        "                sequence_length=sequence_length,\n",
        "                shuffle=True,\n",
        "                batch_size=256,\n",
        "                start_index=0,\n",
        "                end_index=num_train_samples)\n",
        "\n",
        "val_ds = timeseries_dataset_from_array(\n",
        "                data=raw_data_np[:-delay],\n",
        "                targets = temp_np[delay:],\n",
        "                sampling_rate=sampling_rate,\n",
        "                sequence_length=sequence_length,\n",
        "                shuffle=True,\n",
        "                batch_size=256,\n",
        "                start_index=num_train_samples,\n",
        "                end_index=num_train_samples+num_val_samples)\n",
        "\n",
        "test_ds = timeseries_dataset_from_array(\n",
        "                data=raw_data_np[:-delay],\n",
        "                targets = temp_np[delay:],\n",
        "                sampling_rate=sampling_rate,\n",
        "                sequence_length=sequence_length,\n",
        "                shuffle=True,\n",
        "                batch_size=256,\n",
        "                start_index=num_train_samples+num_val_samples)"
      ],
      "id": "1605020e"
    },
    {
      "cell_type": "code",
      "execution_count": null,
      "metadata": {
        "colab": {
          "base_uri": "https://localhost:8080/"
        },
        "id": "5c98694e",
        "outputId": "c3f422aa-49ba-4f1b-8615-f1ff8918785a"
      },
      "outputs": [
        {
          "name": "stdout",
          "output_type": "stream",
          "text": [
            "(256, 120, 14) (256,)\n"
          ]
        }
      ],
      "source": [
        "\n",
        "for input, targets in val_ds:\n",
        "    print(input.numpy().shape, targets.numpy().shape)\n",
        "    break"
      ],
      "id": "5c98694e"
    },
    {
      "cell_type": "code",
      "execution_count": null,
      "metadata": {
        "colab": {
          "base_uri": "https://localhost:8080/",
          "height": 223
        },
        "id": "2e5341da",
        "outputId": "b6ed9896-d921-4db7-ce7f-805fb6e4bfbc"
      },
      "outputs": [
        {
          "data": {
            "text/html": [
              "<div>\n",
              "<style scoped>\n",
              "    .dataframe tbody tr th:only-of-type {\n",
              "        vertical-align: middle;\n",
              "    }\n",
              "\n",
              "    .dataframe tbody tr th {\n",
              "        vertical-align: top;\n",
              "    }\n",
              "\n",
              "    .dataframe thead th {\n",
              "        text-align: right;\n",
              "    }\n",
              "</style>\n",
              "<table border=\"1\" class=\"dataframe\">\n",
              "  <thead>\n",
              "    <tr style=\"text-align: right;\">\n",
              "      <th></th>\n",
              "      <th>p (mbar)</th>\n",
              "      <th>T (degC)</th>\n",
              "      <th>Tpot (K)</th>\n",
              "      <th>Tdew (degC)</th>\n",
              "      <th>rh (%)</th>\n",
              "      <th>VPmax (mbar)</th>\n",
              "      <th>VPact (mbar)</th>\n",
              "      <th>VPdef (mbar)</th>\n",
              "      <th>sh (g/kg)</th>\n",
              "      <th>H2OC (mmol/mol)</th>\n",
              "      <th>rho (g/m**3)</th>\n",
              "      <th>wv (m/s)</th>\n",
              "      <th>max. wv (m/s)</th>\n",
              "      <th>wd (deg)</th>\n",
              "    </tr>\n",
              "  </thead>\n",
              "  <tbody>\n",
              "    <tr>\n",
              "      <th>0</th>\n",
              "      <td>0.913652</td>\n",
              "      <td>-1.920640</td>\n",
              "      <td>-1.974493</td>\n",
              "      <td>-1.866258</td>\n",
              "      <td>1.048017</td>\n",
              "      <td>-1.291319</td>\n",
              "      <td>-1.467155</td>\n",
              "      <td>-0.782345</td>\n",
              "      <td>-1.470126</td>\n",
              "      <td>-1.472035</td>\n",
              "      <td>2.124156</td>\n",
              "      <td>-0.730167</td>\n",
              "      <td>-0.779353</td>\n",
              "      <td>-0.281193</td>\n",
              "    </tr>\n",
              "    <tr>\n",
              "      <th>1</th>\n",
              "      <td>0.919530</td>\n",
              "      <td>-1.965105</td>\n",
              "      <td>-2.018483</td>\n",
              "      <td>-1.919930</td>\n",
              "      <td>1.054031</td>\n",
              "      <td>-1.304475</td>\n",
              "      <td>-1.488858</td>\n",
              "      <td>-0.784442</td>\n",
              "      <td>-1.489117</td>\n",
              "      <td>-1.493465</td>\n",
              "      <td>2.172920</td>\n",
              "      <td>-0.932307</td>\n",
              "      <td>-0.886970</td>\n",
              "      <td>-0.469894</td>\n",
              "    </tr>\n",
              "    <tr>\n",
              "      <th>2</th>\n",
              "      <td>0.914827</td>\n",
              "      <td>-1.976506</td>\n",
              "      <td>-2.029762</td>\n",
              "      <td>-1.924167</td>\n",
              "      <td>1.084099</td>\n",
              "      <td>-1.307106</td>\n",
              "      <td>-1.491270</td>\n",
              "      <td>-0.786538</td>\n",
              "      <td>-1.492915</td>\n",
              "      <td>-1.495846</td>\n",
              "      <td>2.183386</td>\n",
              "      <td>-1.277902</td>\n",
              "      <td>-1.261476</td>\n",
              "      <td>-0.056383</td>\n",
              "    </tr>\n",
              "    <tr>\n",
              "      <th>3</th>\n",
              "      <td>0.912476</td>\n",
              "      <td>-1.953704</td>\n",
              "      <td>-2.006075</td>\n",
              "      <td>-1.890269</td>\n",
              "      <td>1.102140</td>\n",
              "      <td>-1.300528</td>\n",
              "      <td>-1.476801</td>\n",
              "      <td>-0.788635</td>\n",
              "      <td>-1.477722</td>\n",
              "      <td>-1.481560</td>\n",
              "      <td>2.158409</td>\n",
              "      <td>-1.180092</td>\n",
              "      <td>-1.317437</td>\n",
              "      <td>0.251129</td>\n",
              "    </tr>\n",
              "    <tr>\n",
              "      <th>4</th>\n",
              "      <td>0.912476</td>\n",
              "      <td>-1.949143</td>\n",
              "      <td>-2.002692</td>\n",
              "      <td>-1.886032</td>\n",
              "      <td>1.096126</td>\n",
              "      <td>-1.299213</td>\n",
              "      <td>-1.474390</td>\n",
              "      <td>-0.788635</td>\n",
              "      <td>-1.477722</td>\n",
              "      <td>-1.479179</td>\n",
              "      <td>2.153890</td>\n",
              "      <td>-1.193133</td>\n",
              "      <td>-1.261476</td>\n",
              "      <td>0.440994</td>\n",
              "    </tr>\n",
              "  </tbody>\n",
              "</table>\n",
              "</div>"
            ],
            "text/plain": [
              "   p (mbar)  T (degC)  Tpot (K)  ...  wv (m/s)  max. wv (m/s)  wd (deg)\n",
              "0  0.913652 -1.920640 -1.974493  ... -0.730167      -0.779353 -0.281193\n",
              "1  0.919530 -1.965105 -2.018483  ... -0.932307      -0.886970 -0.469894\n",
              "2  0.914827 -1.976506 -2.029762  ... -1.277902      -1.261476 -0.056383\n",
              "3  0.912476 -1.953704 -2.006075  ... -1.180092      -1.317437  0.251129\n",
              "4  0.912476 -1.949143 -2.002692  ... -1.193133      -1.261476  0.440994\n",
              "\n",
              "[5 rows x 14 columns]"
            ]
          },
          "execution_count": 108,
          "metadata": {},
          "output_type": "execute_result"
        }
      ],
      "source": [
        "raw_data_df.head()"
      ],
      "id": "2e5341da"
    },
    {
      "cell_type": "code",
      "execution_count": null,
      "metadata": {
        "id": "091f30de"
      },
      "outputs": [],
      "source": [
        "def naive_baseline(dataset):\n",
        "    total_abs_err = 0\n",
        "    samples_seen = 0\n",
        "    for samples, targets in dataset:\n",
        "        preds = samples[:, -1, 1] * std[1] + mean[1]\n",
        "        total_abs_err += np.sum(np.abs(preds - targets))\n",
        "        samples_seen += samples.shape[0]\n",
        "    return total_abs_err / samples_seen"
      ],
      "id": "091f30de"
    },
    {
      "cell_type": "code",
      "execution_count": null,
      "metadata": {
        "colab": {
          "base_uri": "https://localhost:8080/"
        },
        "id": "6f1b4ccc",
        "outputId": "9ca4aee3-9f23-43d0-8dcc-93aa451bf4c7"
      },
      "outputs": [
        {
          "name": "stdout",
          "output_type": "stream",
          "text": [
            "Validation MAE: 10.33\n",
            "Test MAE: 10.45\n"
          ]
        }
      ],
      "source": [
        "print(f\"Validation MAE: {naive_baseline(val_ds):.2f}\")\n",
        "print(f\"Test MAE: {naive_baseline(test_ds):.2f}\")"
      ],
      "id": "6f1b4ccc"
    },
    {
      "cell_type": "code",
      "execution_count": null,
      "metadata": {
        "colab": {
          "base_uri": "https://localhost:8080/"
        },
        "id": "20c9564b",
        "outputId": "739b76e4-9a24-4d1f-9637-5c8af60f0a81"
      },
      "outputs": [
        {
          "name": "stdout",
          "output_type": "stream",
          "text": [
            "Model: \"model_1\"\n",
            "_________________________________________________________________\n",
            " Layer (type)                Output Shape              Param #   \n",
            "=================================================================\n",
            " input_4 (InputLayer)        [(None, 120, 14)]         0         \n",
            "                                                                 \n",
            " flatten_2 (Flatten)         (None, 1680)              0         \n",
            "                                                                 \n",
            " dense_1 (Dense)             (None, 16)                26896     \n",
            "                                                                 \n",
            " dense_2 (Dense)             (None, 1)                 17        \n",
            "                                                                 \n",
            "=================================================================\n",
            "Total params: 26,913\n",
            "Trainable params: 26,913\n",
            "Non-trainable params: 0\n",
            "_________________________________________________________________\n"
          ]
        }
      ],
      "source": [
        "# TO DO: create fully-connected network: 1 hidden layer with 16 neurons and \"relu\" activation\n",
        "\n",
        "from tensorflow.keras import layers, Input, Model\n",
        "\n",
        "inputs = Input(shape=(sequence_length,raw_data_np.shape[-1]))\n",
        "x = layers.Flatten()(inputs)\n",
        "x = layers.Dense(16,activation='relu')(x)\n",
        "outputs = layers.Dense(1)(x)\n",
        "\n",
        "model = Model(inputs, outputs)\n",
        "model.summary()"
      ],
      "id": "20c9564b"
    },
    {
      "cell_type": "code",
      "execution_count": null,
      "metadata": {
        "colab": {
          "background_save": true,
          "base_uri": "https://localhost:8080/"
        },
        "id": "5ab2f9ee",
        "outputId": "5495212a-fe1c-49ca-f6c7-749c4851e2b4"
      },
      "outputs": [
        {
          "name": "stdout",
          "output_type": "stream",
          "text": [
            "Epoch 1/10\n",
            "819/819 [==============================] - 50s 60ms/step - loss: 13.8178 - mae: 2.8801 - val_loss: 11.0048 - val_mae: 2.6340\n",
            "Epoch 2/10\n",
            "819/819 [==============================] - 50s 61ms/step - loss: 9.5939 - mae: 2.4383 - val_loss: 12.1524 - val_mae: 2.7714\n",
            "Epoch 3/10\n",
            "819/819 [==============================] - 54s 66ms/step - loss: 8.8514 - mae: 2.3435 - val_loss: 12.0783 - val_mae: 2.7506\n",
            "Epoch 4/10\n",
            "819/819 [==============================] - 49s 59ms/step - loss: 8.3141 - mae: 2.2715 - val_loss: 11.6469 - val_mae: 2.7155\n",
            "Epoch 5/10\n",
            "819/819 [==============================] - 49s 60ms/step - loss: 7.9762 - mae: 2.2240 - val_loss: 11.3868 - val_mae: 2.6809\n",
            "Epoch 6/10\n",
            "819/819 [==============================] - 54s 65ms/step - loss: 7.7170 - mae: 2.1893 - val_loss: 12.4120 - val_mae: 2.7928\n",
            "Epoch 7/10\n",
            "819/819 [==============================] - 49s 59ms/step - loss: 7.5076 - mae: 2.1581 - val_loss: 11.2972 - val_mae: 2.6633\n",
            "Epoch 8/10\n",
            "819/819 [==============================] - 49s 60ms/step - loss: 7.3426 - mae: 2.1375 - val_loss: 11.4133 - val_mae: 2.6723\n",
            "Epoch 9/10\n",
            "819/819 [==============================] - 49s 59ms/step - loss: 7.1852 - mae: 2.1133 - val_loss: 11.1642 - val_mae: 2.6452\n",
            "Epoch 10/10\n",
            "819/819 [==============================] - 49s 59ms/step - loss: 7.0631 - mae: 2.0950 - val_loss: 11.8616 - val_mae: 2.7388\n"
          ]
        }
      ],
      "source": [
        "import keras\n",
        "model.compile(optimizer=\"rmsprop\",\n",
        "              loss=\"mse\",\n",
        "              metrics=[\"mae\"])\n",
        "\n",
        "callbacks = keras.callbacks.ModelCheckpoint(\"jena_fc.keras\",\n",
        "                                            save_best_only=True,\n",
        "                                            monitor=\"val_loss\")\n",
        "\n",
        "history = model.fit(train_ds, epochs=10, validation_data=val_ds, callbacks=[callbacks])"
      ],
      "id": "5ab2f9ee"
    },
    {
      "cell_type": "code",
      "execution_count": null,
      "metadata": {
        "colab": {
          "background_save": true
        },
        "id": "f2c17bf1",
        "outputId": "2af8681b-30d4-425a-e1d3-d5849e30f8cd"
      },
      "outputs": [
        {
          "data": {
            "image/png": "[encoded data removed]",
            "text/plain": [
              "<Figure size 432x288 with 1 Axes>"
            ]
          },
          "metadata": {},
          "output_type": "display_data"
        }
      ],
      "source": [
        "import matplotlib.pyplot as plt\n",
        "\n",
        "loss = history.history[\"mae\"]\n",
        "val_loss = history.history[\"val_mae\"]\n",
        "epochs = range(1, len(loss) + 1)\n",
        "\n",
        "# plt.figure()\n",
        "plt.plot(epochs, loss, \"bo\", label=\"Training MAE\")\n",
        "plt.plot(epochs, val_loss, \"b\", label=\"Validation MAE\")\n",
        "plt.title(\"Training and validation MAE\")\n",
        "plt.legend()\n",
        "plt.show()"
      ],
      "id": "f2c17bf1"
    },
    {
      "cell_type": "code",
      "execution_count": null,
      "metadata": {
        "colab": {
          "background_save": true
        },
        "id": "65661513",
        "outputId": "aa5092c5-4c75-48c2-a531-c117e8796187"
      },
      "outputs": [
        {
          "name": "stdout",
          "output_type": "stream",
          "text": [
            "405/405 [==============================] - 16s 39ms/step - loss: 12.3281 - mae: 2.7544\n",
            "Test MAE: 2.75\n"
          ]
        }
      ],
      "source": [
        "import tensorflow\n",
        "\n",
        "model = tensorflow.keras.models.load_model(\"jena_fc.keras\")\n",
        "print(f\"Test MAE: {model.evaluate(test_ds)[1]:.2f}\")"
      ],
      "id": "65661513"
    },
    {
      "cell_type": "code",
      "execution_count": null,
      "metadata": {
        "colab": {
          "background_save": true
        },
        "id": "9c1244da"
      },
      "outputs": [],
      "source": [],
      "id": "9c1244da"
    },
    {
      "cell_type": "code",
      "execution_count": null,
      "metadata": {
        "colab": {
          "background_save": true
        },
        "id": "c66ce3ee",
        "outputId": "254e44d1-2770-4e22-b0ee-07a1a25f8a44"
      },
      "outputs": [
        {
          "name": "stdout",
          "output_type": "stream",
          "text": [
            "Model: \"model_2\"\n",
            "_________________________________________________________________\n",
            " Layer (type)                Output Shape              Param #   \n",
            "=================================================================\n",
            " input_5 (InputLayer)        [(None, 120, 14)]         0         \n",
            "                                                                 \n",
            " conv1d_3 (Conv1D)           (None, 97, 8)             2696      \n",
            "                                                                 \n",
            " max_pooling1d_2 (MaxPooling  (None, 48, 8)            0         \n",
            " 1D)                                                             \n",
            "                                                                 \n",
            " conv1d_4 (Conv1D)           (None, 37, 8)             776       \n",
            "                                                                 \n",
            " max_pooling1d_3 (MaxPooling  (None, 18, 8)            0         \n",
            " 1D)                                                             \n",
            "                                                                 \n",
            " conv1d_5 (Conv1D)           (None, 13, 8)             392       \n",
            "                                                                 \n",
            " global_average_pooling1d_1   (None, 8)                0         \n",
            " (GlobalAveragePooling1D)                                        \n",
            "                                                                 \n",
            " dense_3 (Dense)             (None, 1)                 9         \n",
            "                                                                 \n",
            "=================================================================\n",
            "Total params: 3,873\n",
            "Trainable params: 3,873\n",
            "Non-trainable params: 0\n",
            "_________________________________________________________________\n"
          ]
        }
      ],
      "source": [
        "inputs = Input(shape=(sequence_length, raw_data_np.shape[-1]))\n",
        "x = layers.Conv1D(8, 24, activation=\"relu\")(inputs)\n",
        "x = layers.MaxPooling1D(2)(x)\n",
        "x = layers.Conv1D(8, 12, activation=\"relu\")(x)\n",
        "x = layers.MaxPooling1D(2)(x)\n",
        "x = layers.Conv1D(8, 6, activation=\"relu\")(x)\n",
        "x = layers.GlobalAveragePooling1D()(x)\n",
        "outputs = layers.Dense(1)(x)\n",
        "\n",
        "model2 = Model(inputs, outputs)\n",
        "model2.summary()"
      ],
      "id": "c66ce3ee"
    },
    {
      "cell_type": "code",
      "execution_count": null,
      "metadata": {
        "colab": {
          "background_save": true
        },
        "id": "85849c81",
        "outputId": "053824cb-a05d-49b5-f9fc-213eca2684c3"
      },
      "outputs": [
        {
          "name": "stdout",
          "output_type": "stream",
          "text": [
            "Epoch 1/10\n",
            "819/819 [==============================] - 75s 91ms/step - loss: 24.3597 - mae: 3.8186 - val_loss: 15.1480 - val_mae: 3.0652\n",
            "Epoch 2/10\n",
            "819/819 [==============================] - 75s 92ms/step - loss: 15.5518 - mae: 3.1371 - val_loss: 21.6055 - val_mae: 3.6885\n",
            "Epoch 3/10\n",
            "819/819 [==============================] - 76s 92ms/step - loss: 14.0819 - mae: 2.9806 - val_loss: 19.4970 - val_mae: 3.4811\n",
            "Epoch 4/10\n",
            "819/819 [==============================] - 76s 92ms/step - loss: 13.2620 - mae: 2.8893 - val_loss: 16.4983 - val_mae: 3.1889\n",
            "Epoch 5/10\n",
            "819/819 [==============================] - 76s 92ms/step - loss: 12.5707 - mae: 2.8100 - val_loss: 14.4460 - val_mae: 3.0019\n",
            "Epoch 6/10\n",
            "819/819 [==============================] - 76s 92ms/step - loss: 11.9975 - mae: 2.7440 - val_loss: 17.7746 - val_mae: 3.3258\n",
            "Epoch 7/10\n",
            "819/819 [==============================] - 76s 92ms/step - loss: 11.5275 - mae: 2.6860 - val_loss: 14.9684 - val_mae: 3.0308\n",
            "Epoch 8/10\n",
            "819/819 [==============================] - 75s 92ms/step - loss: 11.1735 - mae: 2.6470 - val_loss: 16.5795 - val_mae: 3.2002\n",
            "Epoch 9/10\n",
            "819/819 [==============================] - 76s 92ms/step - loss: 10.8211 - mae: 2.6038 - val_loss: 17.3238 - val_mae: 3.2577\n",
            "Epoch 10/10\n",
            "819/819 [==============================] - 75s 92ms/step - loss: 10.5677 - mae: 2.5723 - val_loss: 15.3945 - val_mae: 3.0830\n"
          ]
        }
      ],
      "source": [
        "callbacks = keras.callbacks.ModelCheckpoint(\"jena_conv.keras\",\n",
        "                                            save_best_only=True)\n",
        "\n",
        "model2.compile(optimizer=\"rmsprop\", loss=\"mse\", metrics=[\"mae\"])\n",
        "\n",
        "history2 = model2.fit(train_ds,\n",
        "                      epochs=10,\n",
        "                      validation_data=val_ds,\n",
        "                      callbacks=[callbacks])"
      ],
      "id": "85849c81"
    },
    {
      "cell_type": "code",
      "execution_count": null,
      "metadata": {
        "colab": {
          "background_save": true
        },
        "id": "8e015732",
        "outputId": "f9c5c2a9-2eea-446b-bd8f-65875d2204a5"
      },
      "outputs": [
        {
          "data": {
            "image/png": "[encoded data removed]",
            "text/plain": [
              "<Figure size 432x288 with 1 Axes>"
            ]
          },
          "metadata": {},
          "output_type": "display_data"
        }
      ],
      "source": [
        "loss = history2.history[\"mae\"]\n",
        "val_loss = history2.history[\"val_mae\"]\n",
        "epochs = range(1, len(loss) + 1)\n",
        "\n",
        "plt.plot(epochs, loss, \"bo\", label=\"Training MAE\")\n",
        "plt.plot(epochs, val_loss, \"b\", label=\"Validation MAE\")\n",
        "plt.title(\"Training and validation MAE\")\n",
        "plt.legend()\n",
        "plt.show()"
      ],
      "id": "8e015732"
    },
    {
      "cell_type": "code",
      "execution_count": null,
      "metadata": {
        "colab": {
          "background_save": true
        },
        "id": "89f7f080",
        "outputId": "ac2063e8-dca5-4157-ca50-bc957ea69d21"
      },
      "outputs": [
        {
          "name": "stdout",
          "output_type": "stream",
          "text": [
            "405/405 [==============================] - 19s 47ms/step - loss: 14.8425 - mae: 3.0276\n",
            "Test MAE: 3.03\n"
          ]
        }
      ],
      "source": [
        "model = keras.models.load_model(\"jena_conv.keras\")\n",
        "print(f\"Test MAE: {model.evaluate(test_ds)[1]:.2f}\")"
      ],
      "id": "89f7f080"
    },
    {
      "cell_type": "code",
      "execution_count": null,
      "metadata": {
        "colab": {
          "background_save": true
        },
        "id": "a5674368"
      },
      "outputs": [],
      "source": [],
      "id": "a5674368"
    },
    {
      "cell_type": "code",
      "execution_count": null,
      "metadata": {
        "colab": {
          "background_save": true
        },
        "id": "2912d7bb",
        "outputId": "de662251-c6b9-4a13-c0cc-f7fba80b5efc"
      },
      "outputs": [
        {
          "name": "stdout",
          "output_type": "stream",
          "text": [
            "Model: \"model_3\"\n",
            "_________________________________________________________________\n",
            " Layer (type)                Output Shape              Param #   \n",
            "=================================================================\n",
            " input_6 (InputLayer)        [(None, 120, 14)]         0         \n",
            "                                                                 \n",
            " lstm (LSTM)                 (None, 16)                1984      \n",
            "                                                                 \n",
            " dense_4 (Dense)             (None, 1)                 17        \n",
            "                                                                 \n",
            "=================================================================\n",
            "Total params: 2,001\n",
            "Trainable params: 2,001\n",
            "Non-trainable params: 0\n",
            "_________________________________________________________________\n"
          ]
        }
      ],
      "source": [
        "inputs = Input(shape=(sequence_length, raw_data_np.shape[-1]))\n",
        "x = layers.LSTM(16)(inputs)\n",
        "outputs = layers.Dense(1)(x)\n",
        "\n",
        "model3 = Model(inputs, outputs)\n",
        "model3.summary()"
      ],
      "id": "2912d7bb"
    },
    {
      "cell_type": "code",
      "execution_count": null,
      "metadata": {
        "colab": {
          "background_save": true
        },
        "id": "e134039e",
        "outputId": "b2e71df0-3993-433f-89f5-d7247927dbb8"
      },
      "outputs": [
        {
          "name": "stdout",
          "output_type": "stream",
          "text": [
            "Epoch 1/10\n",
            "819/819 [==============================] - 96s 115ms/step - loss: 39.9935 - mae: 4.5717 - val_loss: 12.0835 - val_mae: 2.6613\n",
            "Epoch 2/10\n",
            "819/819 [==============================] - 93s 113ms/step - loss: 10.7500 - mae: 2.5543 - val_loss: 9.3958 - val_mae: 2.3748\n",
            "Epoch 3/10\n",
            "819/819 [==============================] - 94s 115ms/step - loss: 9.8693 - mae: 2.4494 - val_loss: 9.5450 - val_mae: 2.4004\n",
            "Epoch 4/10\n",
            "819/819 [==============================] - 94s 115ms/step - loss: 9.4929 - mae: 2.4025 - val_loss: 9.5489 - val_mae: 2.4002\n",
            "Epoch 5/10\n",
            "819/819 [==============================] - 94s 114ms/step - loss: 9.1196 - mae: 2.3578 - val_loss: 9.6502 - val_mae: 2.4184\n",
            "Epoch 6/10\n",
            "819/819 [==============================] - 94s 114ms/step - loss: 8.8271 - mae: 2.3178 - val_loss: 9.6203 - val_mae: 2.4141\n",
            "Epoch 7/10\n",
            "819/819 [==============================] - 94s 114ms/step - loss: 8.5945 - mae: 2.2854 - val_loss: 10.0683 - val_mae: 2.4700\n",
            "Epoch 8/10\n",
            "819/819 [==============================] - 93s 113ms/step - loss: 8.3776 - mae: 2.2555 - val_loss: 10.4997 - val_mae: 2.5233\n",
            "Epoch 9/10\n",
            "819/819 [==============================] - 95s 116ms/step - loss: 8.2071 - mae: 2.2316 - val_loss: 10.4931 - val_mae: 2.5247\n",
            "Epoch 10/10\n",
            "819/819 [==============================] - 95s 116ms/step - loss: 8.0546 - mae: 2.2103 - val_loss: 10.2798 - val_mae: 2.4765\n"
          ]
        }
      ],
      "source": [
        "model3.compile(optimizer=\"rmsprop\",\n",
        "               loss=\"mse\",\n",
        "               metrics=[\"mae\"])\n",
        "\n",
        "callbacks = keras.callbacks.ModelCheckpoint(\"jena_lstm.keras\",\n",
        "                                            save_best_only=True)\n",
        "\n",
        "history3 = model3.fit(train_ds,\n",
        "                      epochs=10,\n",
        "                      validation_data=val_ds,\n",
        "                      callbacks=[callbacks])"
      ],
      "id": "e134039e"
    },
    {
      "cell_type": "code",
      "execution_count": null,
      "metadata": {
        "colab": {
          "background_save": true
        },
        "id": "f8527b5c",
        "outputId": "8997c597-87d3-4ad3-cad6-88bd696d30b5"
      },
      "outputs": [
        {
          "data": {
            "image/png": "[encoded data removed]",
            "text/plain": [
              "<Figure size 432x288 with 1 Axes>"
            ]
          },
          "metadata": {},
          "output_type": "display_data"
        }
      ],
      "source": [
        "loss = history3.history[\"mae\"]\n",
        "val_loss = history3.history[\"val_mae\"]\n",
        "epochs = range(1, len(loss) + 1)\n",
        "\n",
        "plt.plot(epochs[1:], loss[1:], \"bo\", label=\"Training MAE\")\n",
        "plt.plot(epochs[1:], val_loss[1:], \"b\", label=\"Validation MAE\")\n",
        "plt.title(\"Training and validation MAE\")\n",
        "plt.legend()\n",
        "plt.show()"
      ],
      "id": "f8527b5c"
    },
    {
      "cell_type": "code",
      "execution_count": null,
      "metadata": {
        "colab": {
          "background_save": true
        },
        "id": "d7360191",
        "outputId": "b0add38b-57a9-4864-fb6d-865db2f35d07"
      },
      "outputs": [
        {
          "name": "stdout",
          "output_type": "stream",
          "text": [
            "405/405 [==============================] - 21s 51ms/step - loss: 10.6586 - mae: 2.5520\n",
            "Test MAE: 2.55\n"
          ]
        }
      ],
      "source": [
        "model = tensorflow.keras.models.load_model(\"jena_lstm.keras\")\n",
        "print(f\"Test MAE: {model.evaluate(test_ds)[1]:.2f}\")"
      ],
      "id": "d7360191"
    },
    {
      "cell_type": "code",
      "execution_count": null,
      "metadata": {
        "id": "ba452eb7"
      },
      "outputs": [],
      "source": [],
      "id": "ba452eb7"
    },
    {
      "cell_type": "code",
      "execution_count": null,
      "metadata": {
        "id": "01162068"
      },
      "outputs": [],
      "source": [],
      "id": "01162068"
    }
  ],
  "metadata": {
    "colab": {
      "provenance": []
    },
    "kernelspec": {
      "display_name": "Python 3",
      "language": "python",
      "name": "python3"
    },
    "language_info": {
      "codemirror_mode": {
        "name": "ipython",
        "version": 3
      },
      "file_extension": ".py",
      "mimetype": "text/x-python",
      "name": "python",
      "nbconvert_exporter": "python",
      "pygments_lexer": "ipython3",
      "version": "3.8.8"
    }
  },
  "nbformat": 4,
  "nbformat_minor": 5
}